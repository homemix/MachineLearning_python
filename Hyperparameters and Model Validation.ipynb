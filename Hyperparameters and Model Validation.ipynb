{
 "cells": [
  {
   "metadata": {},
   "cell_type": "markdown",
   "source": "# Hyperparameters and Model Validation",
   "id": "335f4f3e6608ad55"
  },
  {
   "metadata": {},
   "cell_type": "markdown",
   "source": [
    "## Basics steps of supervised machine learning model:\n",
    " 1. Choose a class of model\n",
    "2. Choose model hyperparameters\n",
    "3. Fit model to training data\n",
    "4. Use model to predict labels for new data"
   ],
   "id": "8741e29c48f1bf86"
  },
  {
   "metadata": {},
   "cell_type": "markdown",
   "source": "### Model validation",
   "id": "b99922d916cc3411"
  },
  {
   "metadata": {
    "ExecuteTime": {
     "end_time": "2024-09-08T12:09:42.708258Z",
     "start_time": "2024-09-08T12:09:42.690262Z"
    }
   },
   "cell_type": "code",
   "source": [
    "from sklearn.datasets import load_iris\n",
    "from sklearn.neighbors import KNeighborsClassifier\n",
    "from sklearn.metrics import accuracy_score\n",
    "from sklearn.model_selection import train_test_split, cross_val_score, LeaveOneOut\n"
   ],
   "id": "d84ab06c56d5978d",
   "outputs": [],
   "execution_count": 12
  },
  {
   "metadata": {
    "ExecuteTime": {
     "end_time": "2024-09-08T11:59:14.948555Z",
     "start_time": "2024-09-08T11:59:14.922547Z"
    }
   },
   "cell_type": "code",
   "source": [
    "# The wrong way....\n",
    "\n",
    "\n",
    "iris = load_iris()\n",
    "\n",
    "X = iris.data\n",
    "y = iris.target\n",
    "\n",
    "X.shape"
   ],
   "id": "3a4eb1916f666e65",
   "outputs": [
    {
     "data": {
      "text/plain": [
       "(150, 4)"
      ]
     },
     "execution_count": 2,
     "metadata": {},
     "output_type": "execute_result"
    }
   ],
   "execution_count": 2
  },
  {
   "metadata": {
    "ExecuteTime": {
     "end_time": "2024-09-08T11:59:14.994537Z",
     "start_time": "2024-09-08T11:59:14.952540Z"
    }
   },
   "cell_type": "code",
   "source": [
    "# load model\n",
    "\n",
    "model = KNeighborsClassifier(n_neighbors=1)\n",
    "\n",
    "# fit the model\n",
    "model.fit(X, y)\n",
    "\n",
    "# predict\n",
    "y_pred = model.predict(X)"
   ],
   "id": "90cb4d76321180f3",
   "outputs": [],
   "execution_count": 3
  },
  {
   "metadata": {
    "ExecuteTime": {
     "end_time": "2024-09-08T11:59:15.010598Z",
     "start_time": "2024-09-08T11:59:14.997533Z"
    }
   },
   "cell_type": "code",
   "source": [
    "# get the accuracy score\n",
    "accuracy_score(y, y_pred)"
   ],
   "id": "1e098145001154e8",
   "outputs": [
    {
     "data": {
      "text/plain": [
       "1.0"
      ]
     },
     "execution_count": 4,
     "metadata": {},
     "output_type": "execute_result"
    }
   ],
   "execution_count": 4
  },
  {
   "metadata": {},
   "cell_type": "markdown",
   "source": "- wrong because it trains and evaluates the same data...",
   "id": "d5f6a20b2adeec20"
  },
  {
   "metadata": {
    "ExecuteTime": {
     "end_time": "2024-09-08T12:06:23.003377Z",
     "start_time": "2024-09-08T12:06:22.979370Z"
    }
   },
   "cell_type": "code",
   "source": [
    "# The right way... train split - Hold out method\n",
    "\n",
    "X_train, X_test, y_train, y_test = train_test_split(X, y, random_state=42, train_size=0.5)\n",
    "# model2 = KNeighborsClassifier(n_neighbors=1)\n",
    "model.fit(X_train, y_train)\n",
    "\n",
    "y_pred2 = model.predict(X_test)\n",
    "\n",
    "accuracy_score(y_test, y_pred2)"
   ],
   "id": "5fa5979166247e50",
   "outputs": [
    {
     "data": {
      "text/plain": [
       "0.9733333333333334"
      ]
     },
     "execution_count": 10,
     "metadata": {},
     "output_type": "execute_result"
    }
   ],
   "execution_count": 10
  },
  {
   "metadata": {},
   "cell_type": "markdown",
   "source": "### Cross validation for model evaluation.",
   "id": "c3a5eb08026d3bd9"
  },
  {
   "metadata": {
    "ExecuteTime": {
     "end_time": "2024-09-08T12:06:40.380193Z",
     "start_time": "2024-09-08T12:06:40.322210Z"
    }
   },
   "cell_type": "code",
   "source": "cross_val_score(model, X, y, cv=5)",
   "id": "1d4a7c6f3b1f0399",
   "outputs": [
    {
     "data": {
      "text/plain": [
       "array([0.96666667, 0.96666667, 0.93333333, 0.93333333, 1.        ])"
      ]
     },
     "execution_count": 11,
     "metadata": {},
     "output_type": "execute_result"
    }
   ],
   "execution_count": 11
  },
  {
   "metadata": {
    "ExecuteTime": {
     "end_time": "2024-09-08T12:11:13.288965Z",
     "start_time": "2024-09-08T12:11:12.615307Z"
    }
   },
   "cell_type": "code",
   "source": [
    "# \n",
    "scores = cross_val_score(model, X, y, cv=LeaveOneOut())\n",
    "print(scores)\n",
    "print('-----------------------')\n",
    "print(scores.mean())"
   ],
   "id": "fc994956950ddc69",
   "outputs": [
    {
     "name": "stdout",
     "output_type": "stream",
     "text": [
      "[1. 1. 1. 1. 1. 1. 1. 1. 1. 1. 1. 1. 1. 1. 1. 1. 1. 1. 1. 1. 1. 1. 1. 1.\n",
      " 1. 1. 1. 1. 1. 1. 1. 1. 1. 1. 1. 1. 1. 1. 1. 1. 1. 1. 1. 1. 1. 1. 1. 1.\n",
      " 1. 1. 1. 1. 1. 1. 1. 1. 1. 1. 1. 1. 1. 1. 1. 1. 1. 1. 1. 1. 1. 1. 0. 1.\n",
      " 0. 1. 1. 1. 1. 1. 1. 1. 1. 1. 1. 0. 1. 1. 1. 1. 1. 1. 1. 1. 1. 1. 1. 1.\n",
      " 1. 1. 1. 1. 1. 1. 1. 1. 1. 1. 0. 1. 1. 1. 1. 1. 1. 1. 1. 1. 1. 1. 1. 0.\n",
      " 1. 1. 1. 1. 1. 1. 1. 1. 1. 1. 1. 1. 1. 0. 1. 1. 1. 1. 1. 1. 1. 1. 1. 1.\n",
      " 1. 1. 1. 1. 1. 1.]\n",
      "-----------------------\n",
      "0.96\n"
     ]
    }
   ],
   "execution_count": 16
  }
 ],
 "metadata": {
  "kernelspec": {
   "display_name": "Python 3",
   "language": "python",
   "name": "python3"
  },
  "language_info": {
   "codemirror_mode": {
    "name": "ipython",
    "version": 2
   },
   "file_extension": ".py",
   "mimetype": "text/x-python",
   "name": "python",
   "nbconvert_exporter": "python",
   "pygments_lexer": "ipython2",
   "version": "2.7.6"
  }
 },
 "nbformat": 4,
 "nbformat_minor": 5
}
