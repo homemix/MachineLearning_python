{
 "cells": [
  {
   "metadata": {},
   "cell_type": "markdown",
   "source": "# Feature Engineering",
   "id": "4cb89cd405ff8ea"
  },
  {
   "metadata": {},
   "cell_type": "markdown",
   "source": "## categorical values",
   "id": "9c35152786caa7aa"
  },
  {
   "metadata": {
    "ExecuteTime": {
     "end_time": "2024-09-15T09:55:34.071515Z",
     "start_time": "2024-09-15T09:55:34.056517Z"
    }
   },
   "cell_type": "code",
   "source": [
    "from sklearn.feature_extraction.text import CountVectorizer, TfidfVectorizer\n",
    "import numpy as np"
   ],
   "id": "8cbd6b8f0a550f8f",
   "outputs": [],
   "execution_count": 8
  },
  {
   "metadata": {
    "ExecuteTime": {
     "end_time": "2024-09-15T09:44:23.434169Z",
     "start_time": "2024-09-15T09:44:23.405173Z"
    }
   },
   "cell_type": "code",
   "source": [
    "data = [\n",
    "    {'price': 850000, 'rooms': 4, 'neighborhood': 'Queen Anne'},\n",
    "    {'price': 700000, 'rooms': 3, 'neighborhood': 'Fremont'},\n",
    "    {'price': 650000, 'rooms': 3, 'neighborhood': 'Wallingford'},\n",
    "    {'price': 600000, 'rooms': 2, 'neighborhood': 'Fremont'}\n",
    "]\n",
    "data"
   ],
   "id": "54dfbe96d80844e4",
   "outputs": [
    {
     "data": {
      "text/plain": [
       "[{'price': 850000, 'rooms': 4, 'neighborhood': 'Queen Anne'},\n",
       " {'price': 700000, 'rooms': 3, 'neighborhood': 'Fremont'},\n",
       " {'price': 650000, 'rooms': 3, 'neighborhood': 'Wallingford'},\n",
       " {'price': 600000, 'rooms': 2, 'neighborhood': 'Fremont'}]"
      ]
     },
     "execution_count": 1,
     "metadata": {},
     "output_type": "execute_result"
    }
   ],
   "execution_count": 1
  },
  {
   "metadata": {
    "ExecuteTime": {
     "end_time": "2024-09-15T09:51:46.157744Z",
     "start_time": "2024-09-15T09:51:46.146737Z"
    }
   },
   "cell_type": "code",
   "source": [
    "sample = ['problem of evil',\n",
    "          'evil queen',\n",
    "          'horizon problem']"
   ],
   "id": "68281d6205f99f81",
   "outputs": [],
   "execution_count": 2
  },
  {
   "metadata": {
    "ExecuteTime": {
     "end_time": "2024-09-15T09:55:20.123720Z",
     "start_time": "2024-09-15T09:55:20.100724Z"
    }
   },
   "cell_type": "code",
   "source": [
    "\n",
    "\n",
    "cv = CountVectorizer()\n",
    "\n",
    "X = cv.fit_transform(sample)\n",
    "X"
   ],
   "id": "9f019840e45ba84e",
   "outputs": [
    {
     "data": {
      "text/plain": [
       "<3x5 sparse matrix of type '<class 'numpy.int64'>'\n",
       "\twith 7 stored elements in Compressed Sparse Row format>"
      ]
     },
     "execution_count": 7,
     "metadata": {},
     "output_type": "execute_result"
    }
   ],
   "execution_count": 7
  },
  {
   "metadata": {
    "ExecuteTime": {
     "end_time": "2024-09-15T09:52:48.755831Z",
     "start_time": "2024-09-15T09:52:48.726832Z"
    }
   },
   "cell_type": "code",
   "source": [
    "import pandas as pd\n",
    "\n",
    "pd.DataFrame(X.toarray(), columns=cv.get_feature_names_out())"
   ],
   "id": "ecf387c7cda98de1",
   "outputs": [
    {
     "data": {
      "text/plain": [
       "   evil  horizon  of  problem  queen\n",
       "0     1        0   1        1      0\n",
       "1     1        0   0        0      1\n",
       "2     0        1   0        1      0"
      ],
      "text/html": [
       "<div>\n",
       "<style scoped>\n",
       "    .dataframe tbody tr th:only-of-type {\n",
       "        vertical-align: middle;\n",
       "    }\n",
       "\n",
       "    .dataframe tbody tr th {\n",
       "        vertical-align: top;\n",
       "    }\n",
       "\n",
       "    .dataframe thead th {\n",
       "        text-align: right;\n",
       "    }\n",
       "</style>\n",
       "<table border=\"1\" class=\"dataframe\">\n",
       "  <thead>\n",
       "    <tr style=\"text-align: right;\">\n",
       "      <th></th>\n",
       "      <th>evil</th>\n",
       "      <th>horizon</th>\n",
       "      <th>of</th>\n",
       "      <th>problem</th>\n",
       "      <th>queen</th>\n",
       "    </tr>\n",
       "  </thead>\n",
       "  <tbody>\n",
       "    <tr>\n",
       "      <th>0</th>\n",
       "      <td>1</td>\n",
       "      <td>0</td>\n",
       "      <td>1</td>\n",
       "      <td>1</td>\n",
       "      <td>0</td>\n",
       "    </tr>\n",
       "    <tr>\n",
       "      <th>1</th>\n",
       "      <td>1</td>\n",
       "      <td>0</td>\n",
       "      <td>0</td>\n",
       "      <td>0</td>\n",
       "      <td>1</td>\n",
       "    </tr>\n",
       "    <tr>\n",
       "      <th>2</th>\n",
       "      <td>0</td>\n",
       "      <td>1</td>\n",
       "      <td>0</td>\n",
       "      <td>1</td>\n",
       "      <td>0</td>\n",
       "    </tr>\n",
       "  </tbody>\n",
       "</table>\n",
       "</div>"
      ]
     },
     "execution_count": 5,
     "metadata": {},
     "output_type": "execute_result"
    }
   ],
   "execution_count": 5
  },
  {
   "metadata": {
    "ExecuteTime": {
     "end_time": "2024-09-15T09:55:39.554714Z",
     "start_time": "2024-09-15T09:55:39.518720Z"
    }
   },
   "cell_type": "code",
   "source": [
    "# Use better vectorizer\n",
    "vectorizer = TfidfVectorizer()\n",
    "X = vectorizer.fit_transform(sample)\n",
    "pd.DataFrame(X.toarray(), columns=vectorizer.get_feature_names_out())"
   ],
   "id": "17435bd5b9d08f34",
   "outputs": [
    {
     "data": {
      "text/plain": [
       "       evil   horizon        of   problem     queen\n",
       "0  0.517856  0.000000  0.680919  0.517856  0.000000\n",
       "1  0.605349  0.000000  0.000000  0.000000  0.795961\n",
       "2  0.000000  0.795961  0.000000  0.605349  0.000000"
      ],
      "text/html": [
       "<div>\n",
       "<style scoped>\n",
       "    .dataframe tbody tr th:only-of-type {\n",
       "        vertical-align: middle;\n",
       "    }\n",
       "\n",
       "    .dataframe tbody tr th {\n",
       "        vertical-align: top;\n",
       "    }\n",
       "\n",
       "    .dataframe thead th {\n",
       "        text-align: right;\n",
       "    }\n",
       "</style>\n",
       "<table border=\"1\" class=\"dataframe\">\n",
       "  <thead>\n",
       "    <tr style=\"text-align: right;\">\n",
       "      <th></th>\n",
       "      <th>evil</th>\n",
       "      <th>horizon</th>\n",
       "      <th>of</th>\n",
       "      <th>problem</th>\n",
       "      <th>queen</th>\n",
       "    </tr>\n",
       "  </thead>\n",
       "  <tbody>\n",
       "    <tr>\n",
       "      <th>0</th>\n",
       "      <td>0.517856</td>\n",
       "      <td>0.000000</td>\n",
       "      <td>0.680919</td>\n",
       "      <td>0.517856</td>\n",
       "      <td>0.000000</td>\n",
       "    </tr>\n",
       "    <tr>\n",
       "      <th>1</th>\n",
       "      <td>0.605349</td>\n",
       "      <td>0.000000</td>\n",
       "      <td>0.000000</td>\n",
       "      <td>0.000000</td>\n",
       "      <td>0.795961</td>\n",
       "    </tr>\n",
       "    <tr>\n",
       "      <th>2</th>\n",
       "      <td>0.000000</td>\n",
       "      <td>0.795961</td>\n",
       "      <td>0.000000</td>\n",
       "      <td>0.605349</td>\n",
       "      <td>0.000000</td>\n",
       "    </tr>\n",
       "  </tbody>\n",
       "</table>\n",
       "</div>"
      ]
     },
     "execution_count": 9,
     "metadata": {},
     "output_type": "execute_result"
    }
   ],
   "execution_count": 9
  },
  {
   "metadata": {},
   "cell_type": "markdown",
   "source": "### Derived Features",
   "id": "20a0e7ff5ec8c2fa"
  },
  {
   "metadata": {
    "ExecuteTime": {
     "end_time": "2024-09-15T09:58:19.298774Z",
     "start_time": "2024-09-15T09:58:17.504426Z"
    }
   },
   "cell_type": "code",
   "source": [
    "%matplotlib inline\n",
    "import numpy as np\n",
    "import matplotlib.pyplot as plt\n",
    "\n",
    "x = np.array([1, 2, 3, 4, 5])\n",
    "y = np.array([4, 2, 1, 3, 7])\n",
    "plt.scatter(x, y);\n"
   ],
   "id": "602648fd2f80f4aa",
   "outputs": [
    {
     "data": {
      "text/plain": [
       "<Figure size 640x480 with 1 Axes>"
      ],
      "image/png": "[encoded data removed]"
     },
     "metadata": {},
     "output_type": "display_data"
    }
   ],
   "execution_count": 10
  },
  {
   "metadata": {
    "ExecuteTime": {
     "end_time": "2024-09-15T10:03:11.478035Z",
     "start_time": "2024-09-15T10:03:11.187041Z"
    }
   },
   "cell_type": "code",
   "source": [
    "# Try fitting a linear model to above data\n",
    "from sklearn.linear_model import LinearRegression\n",
    "\n",
    "reg = LinearRegression()\n",
    "X = x[:, np.newaxis]\n",
    "reg.fit(X, y)\n",
    "yfit = reg.predict(X)\n",
    "\n",
    "plt.scatter(x, y)\n",
    "plt.plot(x, yfit, color='red')"
   ],
   "id": "4293d2aaf3e188fe",
   "outputs": [
    {
     "data": {
      "text/plain": [
       "[<matplotlib.lines.Line2D at 0x1f68a6a9b10>]"
      ]
     },
     "execution_count": 12,
     "metadata": {},
     "output_type": "execute_result"
    },
    {
     "data": {
      "text/plain": [
       "<Figure size 640x480 with 1 Axes>"
      ],
      "image/png": "[encoded data removed]"
     },
     "metadata": {},
     "output_type": "display_data"
    }
   ],
   "execution_count": 12
  },
  {
   "metadata": {
    "ExecuteTime": {
     "end_time": "2024-09-15T10:09:13.845637Z",
     "start_time": "2024-09-15T10:09:13.829647Z"
    }
   },
   "cell_type": "code",
   "source": [
    "# results into a poor fit, transform the data ....\n",
    "from sklearn.preprocessing import PolynomialFeatures\n",
    "\n",
    "poly = PolynomialFeatures(degree=3, include_bias=False)\n",
    "\n",
    "X2 = poly.fit_transform(X)\n",
    "print(X2)"
   ],
   "id": "c186264b5f3a2946",
   "outputs": [
    {
     "name": "stdout",
     "output_type": "stream",
     "text": [
      "[[  1.   1.   1.]\n",
      " [  2.   4.   8.]\n",
      " [  3.   9.  27.]\n",
      " [  4.  16.  64.]\n",
      " [  5.  25. 125.]]\n"
     ]
    }
   ],
   "execution_count": 14
  },
  {
   "metadata": {
    "ExecuteTime": {
     "end_time": "2024-09-15T10:10:32.500610Z",
     "start_time": "2024-09-15T10:10:32.197085Z"
    }
   },
   "cell_type": "code",
   "source": [
    "# get linear model for the above...\n",
    "reg.fit(X2, y)\n",
    "yfit2 = reg.predict(X2)\n",
    "\n",
    "plt.scatter(x, y)\n",
    "plt.plot(x, yfit2, color='red')"
   ],
   "id": "a968529b5b2833c1",
   "outputs": [
    {
     "data": {
      "text/plain": [
       "[<matplotlib.lines.Line2D at 0x1f68a744a90>]"
      ]
     },
     "execution_count": 15,
     "metadata": {},
     "output_type": "execute_result"
    },
    {
     "data": {
      "text/plain": [
       "<Figure size 640x480 with 1 Axes>"
      ],
      "image/png": "[encoded data removed]"
     },
     "metadata": {},
     "output_type": "display_data"
    }
   ],
   "execution_count": 15
  },
  {
   "metadata": {},
   "cell_type": "markdown",
   "source": "### Imputing data",
   "id": "60f7f1081373f54a"
  },
  {
   "metadata": {
    "ExecuteTime": {
     "end_time": "2024-09-15T10:14:16.796117Z",
     "start_time": "2024-09-15T10:14:16.775058Z"
    }
   },
   "cell_type": "code",
   "source": [
    "from numpy import nan\n",
    "\n",
    "X = np.array([[nan, 0, 3],\n",
    "              [3, 7, 9],\n",
    "              [3, 5, 2],\n",
    "              [4, nan, 6],\n",
    "              [8, 8, 1]])\n",
    "y = np.array([14, 16, -1, 8, -5])"
   ],
   "id": "3014b5843ab372e3",
   "outputs": [],
   "execution_count": 16
  },
  {
   "metadata": {
    "ExecuteTime": {
     "end_time": "2024-09-15T10:16:31.300162Z",
     "start_time": "2024-09-15T10:16:31.278106Z"
    }
   },
   "cell_type": "code",
   "source": [
    "# Using mean to fill nan.\n",
    "\n",
    "from sklearn.impute import SimpleImputer\n",
    "\n",
    "imputer = SimpleImputer(missing_values=nan, strategy='mean')\n",
    "\n",
    "X2 = imputer.fit_transform(X)\n",
    "X2"
   ],
   "id": "e0cfb32ed851c3ad",
   "outputs": [
    {
     "data": {
      "text/plain": [
       "array([[4.5, 0. , 3. ],\n",
       "       [3. , 7. , 9. ],\n",
       "       [3. , 5. , 2. ],\n",
       "       [4. , 5. , 6. ],\n",
       "       [8. , 8. , 1. ]])"
      ]
     },
     "execution_count": 18,
     "metadata": {},
     "output_type": "execute_result"
    }
   ],
   "execution_count": 18
  },
  {
   "metadata": {
    "ExecuteTime": {
     "end_time": "2024-09-15T10:17:28.318143Z",
     "start_time": "2024-09-15T10:17:28.303147Z"
    }
   },
   "cell_type": "code",
   "source": [
    "model = LinearRegression()\n",
    "model.fit(X2, y)\n",
    "yfit = model.predict(X2)\n",
    "yfit"
   ],
   "id": "256561ee794d578d",
   "outputs": [
    {
     "data": {
      "text/plain": [
       "array([13.14869292, 14.3784627 , -1.15539732, 10.96606197, -5.33782027])"
      ]
     },
     "execution_count": 20,
     "metadata": {},
     "output_type": "execute_result"
    }
   ],
   "execution_count": 20
  },
  {
   "metadata": {},
   "cell_type": "markdown",
   "source": "### Feature pipeline",
   "id": "abfa7433705f4d"
  },
  {
   "metadata": {},
   "cell_type": "markdown",
   "source": "",
   "id": "3312258f1594a41e"
  },
  {
   "metadata": {
    "ExecuteTime": {
     "end_time": "2024-09-15T10:20:40.014807Z",
     "start_time": "2024-09-15T10:20:39.988236Z"
    }
   },
   "cell_type": "code",
   "source": [
    "from sklearn.pipeline import make_pipeline\n",
    "\n",
    "pipeline = make_pipeline(\n",
    "    SimpleImputer(strategy='mean'),\n",
    "    PolynomialFeatures(degree=3, include_bias=False),\n",
    "    LinearRegression())"
   ],
   "id": "a910f5d4ed2eeefd",
   "outputs": [],
   "execution_count": 21
  },
  {
   "metadata": {
    "ExecuteTime": {
     "end_time": "2024-09-15T10:21:33.990933Z",
     "start_time": "2024-09-15T10:21:33.967966Z"
    }
   },
   "cell_type": "code",
   "source": [
    "pipeline.fit(X, y)\n",
    "yfit = pipeline.predict(X)\n",
    "print(yfit)\n",
    "print(y)"
   ],
   "id": "69d27478be71e6f8",
   "outputs": [
    {
     "name": "stdout",
     "output_type": "stream",
     "text": [
      "[14. 16. -1.  8. -5.]\n",
      "[14 16 -1  8 -5]\n"
     ]
    }
   ],
   "execution_count": 23
  },
  {
   "metadata": {},
   "cell_type": "code",
   "outputs": [],
   "execution_count": null,
   "source": "",
   "id": "ecec4eb7db4b0235"
  }
 ],
 "metadata": {
  "kernelspec": {
   "display_name": "Python 3",
   "language": "python",
   "name": "python3"
  },
  "language_info": {
   "codemirror_mode": {
    "name": "ipython",
    "version": 2
   },
   "file_extension": ".py",
   "mimetype": "text/x-python",
   "name": "python",
   "nbconvert_exporter": "python",
   "pygments_lexer": "ipython2",
   "version": "2.7.6"
  }
 },
 "nbformat": 4,
 "nbformat_minor": 5
}
